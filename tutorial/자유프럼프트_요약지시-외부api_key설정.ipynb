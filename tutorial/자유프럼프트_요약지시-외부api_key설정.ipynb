{
 "cells": [
  {
   "cell_type": "code",
   "execution_count": 1,
   "id": "a8aed672",
   "metadata": {},
   "outputs": [],
   "source": [
    "import os, sys\n",
    "# print(os.environ[\"OPENAI_API_KEY\"])"
   ]
  },
  {
   "cell_type": "code",
   "execution_count": 2,
   "id": "f9f68e4f",
   "metadata": {},
   "outputs": [],
   "source": [
    "def response(content_text:str, system_message:str, **params):\n",
    "    from langchain.chat_models import ChatOpenAI\n",
    "    from langchain.schema import AIMessage, HumanMessage, SystemMessage\n",
    "    \n",
    "    chatgpt = ChatOpenAI(**params)\n",
    "    messages = [\n",
    "        SystemMessage(\n",
    "            content=system_message\n",
    "        ),\n",
    "        HumanMessage(\n",
    "            content=content_text\n",
    "        ),\n",
    "    ]\n",
    "    response_langchain = chatgpt(messages)\n",
    "    return response_langchain"
   ]
  },
  {
   "cell_type": "code",
   "execution_count": 3,
   "id": "6b74adfa",
   "metadata": {},
   "outputs": [],
   "source": [
    "while True:\n",
    "    user_input = input(\"요약 줄수 입력(1~10) / 종료(q) : \")\n",
    "    if user_input == 'q':\n",
    "        sys.exit()\n",
    "    try:\n",
    "        n_line = int(user_input)\n",
    "        if 1 <= n_line <= 10:\n",
    "            break  \n",
    "        else:\n",
    "            print(\"1에서 10 사이의 숫자를 입력해주세요.\")\n",
    "    except ValueError:\n",
    "        print(\"유효한 숫자를 입력해주세요.\")  "
   ]
  },
  {
   "cell_type": "code",
   "execution_count": 4,
   "id": "f447d9f3",
   "metadata": {},
   "outputs": [],
   "source": [
    "chatGPT_params = {\n",
    "    \"model_name\": \"gpt-3.5-turbo\",\n",
    "    \"temperature\": 0\n",
    "}\n",
    "\n",
    "system_message_1 = \"한국어로 요약해 주세요.\"\n",
    "system_message_2 = f\"{n_line}줄로 요약해서 한국어 존대말로 답변해 주세요.\"\n",
    "system_message_3 = f\"{n_line}줄로 요약해서 한국어로 답변해 주세요.\"\n",
    "system_message_4 = f\"{n_line}줄로 요약해 주세요.\"\n",
    "\n",
    "system_messages = [system_message_1, system_message_2, system_message_3, system_message_4]\n",
    "\n",
    "content_text=\"NewJeans뉴진스왼쪽부터 하니, 다니엘, 민지, 혜인, 해린기본 정보결성 지역대한민국 서울특별시장르K-pop댄스 팝활동 시기2022년 7월 22일 ~레이블하이브소속사어도어웹사이트newjeans.kr 구성원민지하니다니엘해린혜인 NewJeans(뉴진스)는 2022년 7월 22일에 데뷔한 대한민국의 5인조 걸 그룹으로, 소속사는 하이브 산하의 레이블인 어도어이다. SM 엔터테인먼트 비주얼 디렉터 출신으로 하이브에 영입된 민희진이 프로듀서로 나서서 발굴한 걸 그룹이다. 2022년 8월 18일에 《엠카운트다운》에서 데뷔 3주만에 첫 1위에 올랐다. 2023년 8월에 잼버리 폐회식 K-POP 공연에 출연했다.\""
   ]
  },
  {
   "cell_type": "code",
   "execution_count": 5,
   "id": "95eb7d44",
   "metadata": {},
   "outputs": [
    {
     "name": "stderr",
     "output_type": "stream",
     "text": [
      "/home/kjh/app/miniconda3/envs/ac/lib/python3.8/site-packages/langchain_core/_api/deprecation.py:117: LangChainDeprecationWarning: The class `langchain_community.chat_models.openai.ChatOpenAI` was deprecated in langchain-community 0.0.10 and will be removed in 0.2.0. An updated version of the class exists in the langchain-openai package and should be used instead. To use it run `pip install -U langchain-openai` and import as `from langchain_openai import ChatOpenAI`.\n",
      "  warn_deprecated(\n",
      "/home/kjh/app/miniconda3/envs/ac/lib/python3.8/site-packages/langchain_core/_api/deprecation.py:117: LangChainDeprecationWarning: The function `__call__` was deprecated in LangChain 0.1.7 and will be removed in 0.2.0. Use invoke instead.\n",
      "  warn_deprecated(\n"
     ]
    },
    {
     "name": "stdout",
     "output_type": "stream",
     "text": [
      "content='NewJeans는 2022년 7월 22일에 데뷔한 대한민국의 5인조 걸 그룹으로, 하이브 소속사의 어도어 레이블에 속해 있습니다. 민희진이 프로듀서로 활동하며 발굴한 그룹으로, 2022년 8월 18일에는 데뷔 3주 만에 《엠카운트다운》에서 첫 1위를 차지했습니다. 2023년 8월에는 잼버리 폐회식 K-POP 공연에 출연하기도 했습니다.'\n",
      "content='NewJeans는 2022년 7월 22일에 데뷔한 대한민국의 5인조 걸 그룹으로, 하이브 소속사 어도어에서 활동하고 있습니다. 민희진이 프로듀서로 발굴한 그룹으로, 2022년 8월 18일에는 데뷔 3주 만에 《엠카운트다운》에서 첫 1위를 차지했습니다. 2023년 8월에는 잼버리 폐회식 K-POP 공연에 출연하기도 했습니다.'\n",
      "content='NewJeans는 2022년 7월 22일에 데뷔한 대한민국의 5인조 걸 그룹으로, 하이브 소속사 어도어에서 활동하며, 민희진이 프로듀서로 발굴했다. 데뷔 3주 만에 《엠카운트다운》에서 1위를 차지했고, 2023년 8월에는 잼버리 폐회식 K-POP 공연에 출연했다.'\n",
      "content='NewJeans는 2022년 7월 22일에 데뷔한 5인조 걸 그룹으로, 하이브 소속사 어도어에서 활동 중이다. 민희진이 프로듀서로 걸 그룹을 발굴했고, 2022년 8월 18일에는 데뷔 3주 만에 《엠카운트다운》에서 첫 1위를 차지했다. 2023년 8월에는 잼버리 폐회식 K-POP 공연에 출연하기도 했다.'\n"
     ]
    }
   ],
   "source": [
    "for system_message in system_messages :\n",
    "    print(response(content_text, system_message, **chatGPT_params))"
   ]
  }
 ],
 "metadata": {
  "kernelspec": {
   "display_name": "Python 3 (ipykernel)",
   "language": "python",
   "name": "python3"
  },
  "language_info": {
   "codemirror_mode": {
    "name": "ipython",
    "version": 3
   },
   "file_extension": ".py",
   "mimetype": "text/x-python",
   "name": "python",
   "nbconvert_exporter": "python",
   "pygments_lexer": "ipython3",
   "version": "3.8.0"
  }
 },
 "nbformat": 4,
 "nbformat_minor": 5
}
